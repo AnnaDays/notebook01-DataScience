{
  "nbformat": 4,
  "nbformat_minor": 0,
  "metadata": {
    "colab": {
      "provenance": [],
      "authorship_tag": "ABX9TyPiNz3TpQIw95sq4OKsq2OS",
      "include_colab_link": true
    },
    "kernelspec": {
      "name": "python3",
      "display_name": "Python 3"
    },
    "language_info": {
      "name": "python"
    }
  },
  "cells": [
    {
      "cell_type": "markdown",
      "metadata": {
        "id": "view-in-github",
        "colab_type": "text"
      },
      "source": [
        "<a href=\"https://colab.research.google.com/github/AnnaDays/notebooks-DataScience/blob/main/exercicios_funcoes.ipynb\" target=\"_parent\"><img src=\"https://colab.research.google.com/assets/colab-badge.svg\" alt=\"Open In Colab\"/></a>"
      ]
    },
    {
      "cell_type": "code",
      "execution_count": null,
      "metadata": {
        "colab": {
          "base_uri": "https://localhost:8080/"
        },
        "id": "z-VNUwaL8s0_",
        "outputId": "e01b203e-0b98-43b1-d47b-677b316bcccf"
      },
      "outputs": [
        {
          "output_type": "stream",
          "name": "stdout",
          "text": [
            "A lista possui 17 números em que o maior número é 99 e o menor número é 11. A soma dos valores presentes nela é igual a 743\n"
          ]
        }
      ],
      "source": [
        "lista = [16, 14, 63, 65, 17, 99, 70, 11, 20, 48, 79, 32, 17, 89, 12, 25, 66]\n",
        "def info_lista(lista):\n",
        "  tamanho = len(lista)\n",
        "  soma = sum(lista)\n",
        "  maximo = max(lista)\n",
        "  minimo = min(lista)\n",
        "  return tamanho, soma, maximo, minimo\n",
        "\n",
        "tamanho, soma, maximo, minimo = info_lista(lista)\n",
        "print(f\"A lista possui {tamanho} números em que o maior número é {maximo} e o menor número é {minimo}. A soma dos valores presentes nela é igual a {soma}\")"
      ]
    },
    {
      "cell_type": "code",
      "source": [
        "numero = int(input(\"Digite um número: \"))\n",
        "\n",
        "def tabuada(numero):\n",
        "  print(f\"------- TABUADA DO {numero}: -------\")\n",
        "  for i in range(1, 11):\n",
        "    resultado = numero * i\n",
        "    print(f\"{numero} X {i} = {resultado}\")\n",
        "  return resultado, i\n",
        "\n",
        "resultado, i = tabuada(numero)"
      ],
      "metadata": {
        "colab": {
          "base_uri": "https://localhost:8080/"
        },
        "id": "eZI5K-OO-7_s",
        "outputId": "4b220e38-d35c-42aa-c344-0aa579d1c490"
      },
      "execution_count": null,
      "outputs": [
        {
          "output_type": "stream",
          "name": "stdout",
          "text": [
            "Digite um número: 3\n",
            "------- TABUADA DO 3: -------\n",
            "3 X 1 = 3\n",
            "3 X 2 = 6\n",
            "3 X 3 = 9\n",
            "3 X 4 = 12\n",
            "3 X 5 = 15\n",
            "3 X 6 = 18\n",
            "3 X 7 = 21\n",
            "3 X 8 = 24\n",
            "3 X 9 = 27\n",
            "3 X 10 = 30\n"
          ]
        }
      ]
    },
    {
      "cell_type": "code",
      "source": [
        "lista_antiga = [97, 80, 94, 88, 80, 1, 16, 53, 62, 32, 24, 99]\n",
        "\n",
        "def multiplos_tres(lista):\n",
        "  lista_multiplos = []\n",
        "  for elemento in lista:\n",
        "    if elemento % 3 == 0:\n",
        "      lista_multiplos.append(elemento)\n",
        "  return lista_multiplos\n",
        "\n",
        "lista_multiplos = multiplos_tres(lista_antiga)\n",
        "print(f\"Os elementos multiplos de 3 são: {lista_multiplos}\")"
      ],
      "metadata": {
        "colab": {
          "base_uri": "https://localhost:8080/"
        },
        "id": "5VQJTPUtAcMY",
        "outputId": "00b48585-6d6f-4459-9dc4-a391de213cb9"
      },
      "execution_count": null,
      "outputs": [
        {
          "output_type": "stream",
          "name": "stdout",
          "text": [
            "Os elementos multiplos de 3 são: [24, 99]\n"
          ]
        }
      ]
    },
    {
      "cell_type": "code",
      "source": [
        "lista = [1, 2, 3, 4, 5, 6, 7, 8, 9, 10]\n",
        "quadrado = map(lambda x: x ** 2, lista)\n",
        "quadrado = list(quadrado)\n",
        "print(f\"O quadrado de cada elemento da lista é: {quadrado}\")"
      ],
      "metadata": {
        "colab": {
          "base_uri": "https://localhost:8080/"
        },
        "id": "uwh9B39HDrTe",
        "outputId": "a961dbfb-7bd1-40f0-821f-6953e3d56b86"
      },
      "execution_count": null,
      "outputs": [
        {
          "output_type": "stream",
          "name": "stdout",
          "text": [
            "O quadrado de cada elemento da lista é: [1, 4, 9, 16, 25, 36, 49, 64, 81, 100]\n"
          ]
        }
      ]
    },
    {
      "cell_type": "code",
      "source": [
        "def nota_aluno():\n",
        "  lista_notas = []\n",
        "  for i in range(1, 5):\n",
        "    notas = float(input(f\"Digite a {i}º nota: \"))\n",
        "    lista_notas.append(notas)\n",
        "    maior = max(lista_notas)\n",
        "    menor = min(lista_notas)\n",
        "    media = sum(lista_notas) / len(lista_notas)\n",
        "\n",
        "    if media >= 6.0:\n",
        "      situacao = \"Aprovado(a)!\"\n",
        "    else:\n",
        "      situacao = \"Reprovado(a)!\"\n",
        "\n",
        "  return maior, menor, media, situacao\n",
        "\n",
        "maior, menor, media, situacao = nota_aluno()\n",
        "print(f\"O(a) estudante obteve uma média de {media}, com a sua maior nota de {maior} pontos e a menor nota de {menor} pontos e foi {situacao}\")"
      ],
      "metadata": {
        "colab": {
          "base_uri": "https://localhost:8080/"
        },
        "id": "3oYtNl0bF0FN",
        "outputId": "f20be0ef-90dc-4da8-a65d-83254e8a3d3e"
      },
      "execution_count": null,
      "outputs": [
        {
          "output_type": "stream",
          "name": "stdout",
          "text": [
            "Digite a 1º nota: 10\n",
            "Digite a 2º nota: 8\n",
            "Digite a 3º nota: 5\n",
            "Digite a 4º nota: 7\n",
            "O(a) estudante obteve uma média de 7.5, com a sua maior nota de 10.0 pontos e a menor nota de 5.0 pontos e foi Aprovado(a)!\n"
          ]
        }
      ]
    },
    {
      "cell_type": "code",
      "source": [
        "nomes = [\"joão\", \"MaRia\", \"JOSÉ\"]\n",
        "sobrenomes = [\"SILVA\", \"souza\", \"Tavares\"]\n",
        "\n",
        "frase_nome =  map(lambda nome, sobrenome: f\"Nome completo: {nome.title()}, {sobrenome.title()}\", nomes, sobrenomes)\n",
        "frase_nome = list(frase_nome)\n",
        "print(frase_nome)"
      ],
      "metadata": {
        "colab": {
          "base_uri": "https://localhost:8080/"
        },
        "id": "u2pnDl4OKvrf",
        "outputId": "dcee2d51-38bc-4de5-ea4e-a62d93b5a8e7"
      },
      "execution_count": null,
      "outputs": [
        {
          "output_type": "stream",
          "name": "stdout",
          "text": [
            "['Nome completo: João, Silva', 'Nome completo: Maria, Souza', 'Nome completo: José, Tavares']\n"
          ]
        }
      ]
    },
    {
      "cell_type": "code",
      "source": [
        "def notas_skate():\n",
        "    lista = []\n",
        "    for i in range(1, 6):\n",
        "        notas = float(input(f\"Digite a {i}º nota: \"))\n",
        "        lista.append(notas)\n",
        "\n",
        "    lista.remove(max(lista))\n",
        "    lista.remove(min(lista))\n",
        "    media = sum(lista) / len(lista)\n",
        "\n",
        "    return media\n",
        "\n",
        "media = notas_skate()\n",
        "print(f\"Nota da manobra: {media}\")"
      ],
      "metadata": {
        "colab": {
          "base_uri": "https://localhost:8080/"
        },
        "id": "H1VEA2zoNpRU",
        "outputId": "d6342dcf-4366-4173-e4ca-1ce0da5b5007"
      },
      "execution_count": null,
      "outputs": [
        {
          "output_type": "stream",
          "name": "stdout",
          "text": [
            "Digite a 1º nota: 10\n",
            "Digite a 2º nota: 8\n",
            "Digite a 3º nota: 5\n",
            "Digite a 4º nota: 2\n",
            "Digite a 5º nota: 1\n",
            "Nota da manobra: 5.0\n"
          ]
        }
      ]
    },
    {
      "cell_type": "code",
      "source": [
        "gols_marcados = [2, 1, 3, 1, 0]\n",
        "gols_sofridos = [1, 2, 2, 1, 3]\n",
        "\n",
        "def calcula_pontos(gols_marcados, gols_sofridos):\n",
        "  pontuacao = 0\n",
        "  for i in range(len(gols_marcados)):\n",
        "    if gols_marcados[i] > gols_sofridos[i]:\n",
        "      pontuacao += 3\n",
        "    elif gols_marcados[i] == gols_sofridos[i]:\n",
        "      pontuacao += 1\n",
        "    else:\n",
        "      pontuacao += 0\n",
        "\n",
        "  aproveitamento = 100 * pontuacao / (len(gols_marcados) * 3)\n",
        "\n",
        "  return pontuacao, aproveitamento\n",
        "\n",
        "pontuacao, aproveitamento = calcula_pontos(gols_marcados, gols_sofridos)\n",
        "print(f\"A pontuação do time foi de {pontuacao} e seu aproveitamento foi de {round(aproveitamento, 1)}%\")"
      ],
      "metadata": {
        "colab": {
          "base_uri": "https://localhost:8080/"
        },
        "id": "drTR_u5VtWlL",
        "outputId": "fc1738ca-0a6f-45b3-bc87-c2f18b1f64dd"
      },
      "execution_count": 2,
      "outputs": [
        {
          "output_type": "stream",
          "name": "stdout",
          "text": [
            "A pontuação do time foi de 7 e seu aproveitamento foi de 46.7%\n"
          ]
        }
      ]
    },
    {
      "cell_type": "code",
      "source": [
        "dias = int(input(\"Quantas diárias? \"))\n",
        "cidade = input(\"Qual a cidade? [Salvador, Fortaleza, Natal ou Aracaju]: \")\n",
        "distancias = [850, 800, 300, 550]\n",
        "passeio = [200, 400, 250, 300]\n",
        "km_l = 14\n",
        "gasolina = 5\n",
        "\n",
        "def gasto_hotel(dias):\n",
        "    return 150 * dias\n",
        "\n",
        "def gasto_gasolina(cidade):\n",
        "    if cidade == \"Salvador\":\n",
        "        return (2 * distancias[0] * gasolina) / km_l\n",
        "    elif cidade == \"Fortaleza\":\n",
        "        return (2 * distancias[1] * gasolina) / km_l\n",
        "    elif cidade == \"Natal\":\n",
        "        return (2 * distancias[2] * gasolina) / km_l\n",
        "    elif cidade == \"Aracaju\":\n",
        "        return (2 * distancias[3] * gasolina) / km_l\n",
        "\n",
        "def gasto_passeio(cidade, dias):\n",
        "    if cidade==\"Salvador\":\n",
        "        return passeio[0] * dias\n",
        "    elif cidade==\"Fortaleza\":\n",
        "        return passeio[1] * dias\n",
        "    elif cidade==\"Natal\":\n",
        "        return passeio[2] * dias\n",
        "    elif cidade==\"Aracaju\":\n",
        "        return passeio[3] * dias\n",
        "\n",
        "gastos = gasto_hotel(dias) + gasto_gasolina(cidade) + gasto_passeio(cidade, dias)\n",
        "print(f\"Com base nos gastos definidos, uma viagem de {dias} dias para {cidade} saindo de Recife custaria {round(gastos, 2)} reais\")"
      ],
      "metadata": {
        "colab": {
          "base_uri": "https://localhost:8080/"
        },
        "id": "eQK_VG2rylD0",
        "outputId": "9608d59a-ab47-44c2-860f-aad8c90881be"
      },
      "execution_count": 3,
      "outputs": [
        {
          "output_type": "stream",
          "name": "stdout",
          "text": [
            "Quantas diárias? 2\n",
            "Qual a cidade? [Salvador, Fortaleza, Natal ou Aracaju]: Aracaju\n",
            "Com base nos gastos definidos, uma viagem de 2 dias para Aracaju saindo de Recife custaria 1292.86 reais\n"
          ]
        }
      ]
    }
  ]
}